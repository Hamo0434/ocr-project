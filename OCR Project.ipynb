{
 "cells": [
  {
   "cell_type": "markdown",
   "id": "e01d1728",
   "metadata": {},
   "source": [
    "This project involves in detecting dates ,names and phone numbers then blurring them "
   ]
  },
  {
   "cell_type": "code",
   "execution_count": 1,
   "id": "bbc96b88",
   "metadata": {},
   "outputs": [],
   "source": [
    "import cv2\n",
    "import pytesseract\n",
    "import spacy\n",
    "from spacy.matcher import PhraseMatcher\n",
    "\n",
    "# Load spaCy model\n",
    "nlp = spacy.load(\"en_core_web_sm\")\n",
    "\n",
    "# Define sensitive phrases\n",
    "sensitive_phrases = [\"name\", \"phone number\", \"birthday\"]\n",
    "\n",
    "# Initialize phrase matcher\n",
    "matcher = PhraseMatcher(nlp.vocab)\n",
    "patterns = [nlp(text) for text in sensitive_phrases]\n",
    "matcher.add(\"SensitiveInfo\", None, *patterns)\n",
    "\n",
    "def detect_sensitive_info(text):\n",
    "    doc = nlp(text)\n",
    "    matches = matcher(doc)\n",
    "    return any(matches)\n",
    "\n",
    "def blur_text(image, bbox):\n",
    "    x, y, w, h = bbox\n",
    "    blurred = cv2.GaussianBlur(image[y:y+h, x:x+w], (51, 51), 0)\n",
    "    image[y:y+h, x:x+w] = blurred\n",
    "    return image\n",
    "\n",
    "def process_frame(frame):\n",
    "    # Convert frame to grayscale for better OCR\n",
    "    gray = cv2.cvtColor(frame, cv2.COLOR_BGR2GRAY)\n",
    "    \n",
    "    # Use Tesseract for text detection\n",
    "    text = pytesseract.image_to_string(gray)\n",
    "    \n",
    "    # Check if detected text contains sensitive information\n",
    "    if detect_sensitive_info(text):\n",
    "        # Blur text box\n",
    "        return blur_text(frame, (0, 0, frame.shape[1], frame.shape[0]))\n",
    "    else:\n",
    "        return frame\n",
    "\n",
    "def process_video(input_video_path, output_video_path):\n",
    "    cap = cv2.VideoCapture(input_video_path)\n",
    "    fps = cap.get(cv2.CAP_PROP_FPS)\n",
    "    frame_width = int(cap.get(cv2.CAP_PROP_FRAME_WIDTH))\n",
    "    frame_height = int(cap.get(cv2.CAP_PROP_FRAME_HEIGHT))\n",
    "    out = cv2.VideoWriter(output_video_path, cv2.VideoWriter_fourcc(*'XVID'), fps, (frame_width, frame_height))\n",
    "    \n",
    "    while cap.isOpened():\n",
    "        ret, frame = cap.read()\n",
    "        if not ret:\n",
    "            break\n",
    "        \n",
    "        processed_frame = process_frame(frame)\n",
    "        out.write(processed_frame)\n",
    "    \n",
    "    cap.release()\n",
    "    out.release()\n",
    "    cv2.destroyAllWindows()\n",
    "\n",
    "# Example usage\n",
    "input_video_path = r\"C:\\Users\\Elhamd Pc\\Videos\\Captures\\Photos 2024-05-15 14-24-33.mp4\"\n",
    "output_video_path = r\"C:\\Users\\Elhamd Pc\\Videos\\Captures\\the_output.mp4\"\n",
    "process_video(input_video_path, output_video_path)\n"
   ]
  },
  {
   "cell_type": "code",
   "execution_count": null,
   "id": "c7af7759",
   "metadata": {},
   "outputs": [],
   "source": []
  },
  {
   "cell_type": "code",
   "execution_count": null,
   "id": "d42d83c1",
   "metadata": {},
   "outputs": [],
   "source": []
  }
 ],
 "metadata": {
  "kernelspec": {
   "display_name": "Python 3 (ipykernel)",
   "language": "python",
   "name": "python3"
  },
  "language_info": {
   "codemirror_mode": {
    "name": "ipython",
    "version": 3
   },
   "file_extension": ".py",
   "mimetype": "text/x-python",
   "name": "python",
   "nbconvert_exporter": "python",
   "pygments_lexer": "ipython3",
   "version": "3.9.13"
  }
 },
 "nbformat": 4,
 "nbformat_minor": 5
}
